{
 "cells": [
  {
   "cell_type": "code",
   "execution_count": 28,
   "id": "63daeebc",
   "metadata": {},
   "outputs": [],
   "source": [
    "from qiskit_ionq import IonQProvider\n",
    "provider = IonQProvider(token = '이v7fAyFBE6CKDTS2LOUFVMMr2JkO4QrK')"
   ]
  },
  {
   "cell_type": "code",
   "execution_count": 36,
   "id": "12fcf852",
   "metadata": {},
   "outputs": [
    {
     "data": {
      "text/plain": [
       "[<IonQSimulatorBackend('ionq_simulator')>, <IonQQPUBackend('ionq_qpu')>]"
      ]
     },
     "execution_count": 36,
     "metadata": {},
     "output_type": "execute_result"
    }
   ],
   "source": [
    "provider.backends()"
   ]
  },
  {
   "cell_type": "code",
   "execution_count": 30,
   "id": "3479253f",
   "metadata": {},
   "outputs": [],
   "source": [
    "backend_name = 'ionq_qpu' # 'ionq_simulator'\n",
    "backend = provider.get_backend(backend_name)"
   ]
  },
  {
   "cell_type": "code",
   "execution_count": 39,
   "id": "7cdf6e59",
   "metadata": {},
   "outputs": [
    {
     "data": {
      "text/plain": [
       "'ionq_qpu'"
      ]
     },
     "execution_count": 39,
     "metadata": {},
     "output_type": "execute_result"
    }
   ],
   "source": [
    "backend.name()"
   ]
  },
  {
   "cell_type": "code",
   "execution_count": 42,
   "id": "66882064",
   "metadata": {},
   "outputs": [
    {
     "data": {
      "text/plain": [
       "<qiskit.providers.models.backendconfiguration.BackendConfiguration at 0x2100a215ae0>"
      ]
     },
     "execution_count": 42,
     "metadata": {},
     "output_type": "execute_result"
    }
   ],
   "source": [
    "backend.configuration()"
   ]
  },
  {
   "cell_type": "code",
   "execution_count": 44,
   "id": "88a4a6f7",
   "metadata": {},
   "outputs": [
    {
     "data": {
      "text/plain": [
       "<IonQQPUBackend('qpudd')>"
      ]
     },
     "execution_count": 44,
     "metadata": {},
     "output_type": "execute_result"
    }
   ],
   "source": [
    "backend.with_name('qpudd')"
   ]
  },
  {
   "cell_type": "code",
   "execution_count": 31,
   "id": "451d226d",
   "metadata": {},
   "outputs": [],
   "source": [
    "from qiskit import QuantumCircuit"
   ]
  },
  {
   "cell_type": "code",
   "execution_count": 32,
   "id": "cc724f88",
   "metadata": {},
   "outputs": [
    {
     "data": {
      "text/plain": [
       "<qiskit.circuit.instructionset.InstructionSet at 0x21009b6d8a0>"
      ]
     },
     "execution_count": 32,
     "metadata": {},
     "output_type": "execute_result"
    }
   ],
   "source": [
    "qc = QuantumCircuit(2,2)\n",
    "\n",
    "qc.h(0)\n",
    "\n",
    "qc.cx(0,1)\n",
    "\n",
    "qc.measure([0,1],[0,1])"
   ]
  },
  {
   "cell_type": "code",
   "execution_count": 33,
   "id": "b5b60385",
   "metadata": {},
   "outputs": [
    {
     "data": {
      "image/png": "[encoded data removed]",
      "text/plain": [
       "<Figure size 454.517x284.278 with 1 Axes>"
      ]
     },
     "execution_count": 33,
     "metadata": {},
     "output_type": "execute_result"
    }
   ],
   "source": [
    "qc.draw('mpl')"
   ]
  },
  {
   "cell_type": "code",
   "execution_count": 45,
   "id": "7de29d32",
   "metadata": {},
   "outputs": [
    {
     "ename": "IonQAPIError",
     "evalue": "IonQAPIError(message='See https://docs.ionq.com/#tag/jobs for valid targets.',status_code=400,headers={'Date': 'Tue, 20 Jun 2023 11:41:51 GMT', 'Content-Type': 'application/json; charset=utf-8', 'Transfer-Encoding': 'chunked', 'Connection': 'keep-alive', 'cache-control': 'no-cache', 'vary': 'Origin', 'Access-Control-Allow-Credentials': 'true', 'Access-Control-Expose-Headers': 'x-ionq-session', 'strict-transport-security': \"'max-age=86400; includeSubDomains'\", 'CF-Cache-Status': 'DYNAMIC', 'Server': 'cloudflare', 'CF-RAY': '7da3bebd28c8015c-ICN'},body={\"error\":\"Bad Request\",\"statusCode\":400,\"message\":\"See https://docs.ionq.com/#tag/jobs for valid targets.\"},error_type='Bad Request')",
     "output_type": "error",
     "traceback": [
      "\u001b[1;31m---------------------------------------------------------------------------\u001b[0m",
      "\u001b[1;31mIonQAPIError\u001b[0m                              Traceback (most recent call last)",
      "Cell \u001b[1;32mIn[45], line 1\u001b[0m\n\u001b[1;32m----> 1\u001b[0m job \u001b[38;5;241m=\u001b[39m \u001b[43mbackend\u001b[49m\u001b[38;5;241;43m.\u001b[39;49m\u001b[43mrun\u001b[49m\u001b[43m(\u001b[49m\u001b[43mqc\u001b[49m\u001b[43m)\u001b[49m\n",
      "File \u001b[1;32m~\\sci\\lib\\site-packages\\qiskit_ionq\\ionq_backend.py:254\u001b[0m, in \u001b[0;36mIonQBackend.run\u001b[1;34m(self, circuit, **kwargs)\u001b[0m\n\u001b[0;32m    245\u001b[0m passed_args \u001b[38;5;241m=\u001b[39m kwargs\n\u001b[0;32m    247\u001b[0m job \u001b[38;5;241m=\u001b[39m ionq_job\u001b[38;5;241m.\u001b[39mIonQJob(\n\u001b[0;32m    248\u001b[0m     \u001b[38;5;28mself\u001b[39m,\n\u001b[0;32m    249\u001b[0m     \u001b[38;5;28;01mNone\u001b[39;00m,\n\u001b[1;32m   (...)\u001b[0m\n\u001b[0;32m    252\u001b[0m     passed_args\u001b[38;5;241m=\u001b[39mpassed_args,\n\u001b[0;32m    253\u001b[0m )\n\u001b[1;32m--> 254\u001b[0m \u001b[43mjob\u001b[49m\u001b[38;5;241;43m.\u001b[39;49m\u001b[43msubmit\u001b[49m\u001b[43m(\u001b[49m\u001b[43m)\u001b[49m\n\u001b[0;32m    255\u001b[0m \u001b[38;5;28;01mreturn\u001b[39;00m job\n",
      "File \u001b[1;32m~\\sci\\lib\\site-packages\\qiskit_ionq\\ionq_job.py:217\u001b[0m, in \u001b[0;36mIonQJob.submit\u001b[1;34m(self)\u001b[0m\n\u001b[0;32m    211\u001b[0m \u001b[38;5;28;01mif\u001b[39;00m \u001b[38;5;28mself\u001b[39m\u001b[38;5;241m.\u001b[39mcircuit \u001b[38;5;129;01mis\u001b[39;00m \u001b[38;5;28;01mNone\u001b[39;00m:\n\u001b[0;32m    212\u001b[0m     \u001b[38;5;28;01mraise\u001b[39;00m exceptions\u001b[38;5;241m.\u001b[39mIonQJobError(\n\u001b[0;32m    213\u001b[0m         \u001b[38;5;124m\"\u001b[39m\u001b[38;5;124mCannot submit a job without a circuit. \u001b[39m\u001b[38;5;124m\"\u001b[39m\n\u001b[0;32m    214\u001b[0m         \u001b[38;5;124m\"\u001b[39m\u001b[38;5;124mPlease create a job with a circuit and try again.\u001b[39m\u001b[38;5;124m\"\u001b[39m\n\u001b[0;32m    215\u001b[0m     )\n\u001b[1;32m--> 217\u001b[0m response \u001b[38;5;241m=\u001b[39m \u001b[38;5;28;43mself\u001b[39;49m\u001b[38;5;241;43m.\u001b[39;49m\u001b[43m_client\u001b[49m\u001b[38;5;241;43m.\u001b[39;49m\u001b[43msubmit_job\u001b[49m\u001b[43m(\u001b[49m\u001b[43mjob\u001b[49m\u001b[38;5;241;43m=\u001b[39;49m\u001b[38;5;28;43mself\u001b[39;49m\u001b[43m)\u001b[49m\n\u001b[0;32m    218\u001b[0m \u001b[38;5;28mself\u001b[39m\u001b[38;5;241m.\u001b[39m_job_id \u001b[38;5;241m=\u001b[39m response[\u001b[38;5;124m\"\u001b[39m\u001b[38;5;124mid\u001b[39m\u001b[38;5;124m\"\u001b[39m]\n",
      "File \u001b[1;32m~\\sci\\lib\\site-packages\\decorator.py:232\u001b[0m, in \u001b[0;36mdecorate.<locals>.fun\u001b[1;34m(*args, **kw)\u001b[0m\n\u001b[0;32m    230\u001b[0m \u001b[38;5;28;01mif\u001b[39;00m \u001b[38;5;129;01mnot\u001b[39;00m kwsyntax:\n\u001b[0;32m    231\u001b[0m     args, kw \u001b[38;5;241m=\u001b[39m fix(args, kw, sig)\n\u001b[1;32m--> 232\u001b[0m \u001b[38;5;28;01mreturn\u001b[39;00m caller(func, \u001b[38;5;241m*\u001b[39m(extras \u001b[38;5;241m+\u001b[39m args), \u001b[38;5;241m*\u001b[39m\u001b[38;5;241m*\u001b[39mkw)\n",
      "File \u001b[1;32m~\\sci\\lib\\site-packages\\retry\\api.py:73\u001b[0m, in \u001b[0;36mretry.<locals>.retry_decorator\u001b[1;34m(f, *fargs, **fkwargs)\u001b[0m\n\u001b[0;32m     71\u001b[0m args \u001b[38;5;241m=\u001b[39m fargs \u001b[38;5;28;01mif\u001b[39;00m fargs \u001b[38;5;28;01melse\u001b[39;00m \u001b[38;5;28mlist\u001b[39m()\n\u001b[0;32m     72\u001b[0m kwargs \u001b[38;5;241m=\u001b[39m fkwargs \u001b[38;5;28;01mif\u001b[39;00m fkwargs \u001b[38;5;28;01melse\u001b[39;00m \u001b[38;5;28mdict\u001b[39m()\n\u001b[1;32m---> 73\u001b[0m \u001b[38;5;28;01mreturn\u001b[39;00m \u001b[43m__retry_internal\u001b[49m\u001b[43m(\u001b[49m\u001b[43mpartial\u001b[49m\u001b[43m(\u001b[49m\u001b[43mf\u001b[49m\u001b[43m,\u001b[49m\u001b[43m \u001b[49m\u001b[38;5;241;43m*\u001b[39;49m\u001b[43margs\u001b[49m\u001b[43m,\u001b[49m\u001b[43m \u001b[49m\u001b[38;5;241;43m*\u001b[39;49m\u001b[38;5;241;43m*\u001b[39;49m\u001b[43mkwargs\u001b[49m\u001b[43m)\u001b[49m\u001b[43m,\u001b[49m\u001b[43m \u001b[49m\u001b[43mexceptions\u001b[49m\u001b[43m,\u001b[49m\u001b[43m \u001b[49m\u001b[43mtries\u001b[49m\u001b[43m,\u001b[49m\u001b[43m \u001b[49m\u001b[43mdelay\u001b[49m\u001b[43m,\u001b[49m\u001b[43m \u001b[49m\u001b[43mmax_delay\u001b[49m\u001b[43m,\u001b[49m\u001b[43m \u001b[49m\u001b[43mbackoff\u001b[49m\u001b[43m,\u001b[49m\u001b[43m \u001b[49m\u001b[43mjitter\u001b[49m\u001b[43m,\u001b[49m\n\u001b[0;32m     74\u001b[0m \u001b[43m                        \u001b[49m\u001b[43mlogger\u001b[49m\u001b[43m)\u001b[49m\n",
      "File \u001b[1;32m~\\sci\\lib\\site-packages\\retry\\api.py:33\u001b[0m, in \u001b[0;36m__retry_internal\u001b[1;34m(f, exceptions, tries, delay, max_delay, backoff, jitter, logger)\u001b[0m\n\u001b[0;32m     31\u001b[0m \u001b[38;5;28;01mwhile\u001b[39;00m _tries:\n\u001b[0;32m     32\u001b[0m     \u001b[38;5;28;01mtry\u001b[39;00m:\n\u001b[1;32m---> 33\u001b[0m         \u001b[38;5;28;01mreturn\u001b[39;00m \u001b[43mf\u001b[49m\u001b[43m(\u001b[49m\u001b[43m)\u001b[49m\n\u001b[0;32m     34\u001b[0m     \u001b[38;5;28;01mexcept\u001b[39;00m exceptions \u001b[38;5;28;01mas\u001b[39;00m e:\n\u001b[0;32m     35\u001b[0m         _tries \u001b[38;5;241m-\u001b[39m\u001b[38;5;241m=\u001b[39m \u001b[38;5;241m1\u001b[39m\n",
      "File \u001b[1;32m~\\sci\\lib\\site-packages\\qiskit_ionq\\ionq_client.py:108\u001b[0m, in \u001b[0;36mIonQClient.submit_job\u001b[1;34m(self, job)\u001b[0m\n\u001b[0;32m    101\u001b[0m req_path \u001b[38;5;241m=\u001b[39m \u001b[38;5;28mself\u001b[39m\u001b[38;5;241m.\u001b[39mmake_path(\u001b[38;5;124m\"\u001b[39m\u001b[38;5;124mjobs\u001b[39m\u001b[38;5;124m\"\u001b[39m)\n\u001b[0;32m    102\u001b[0m res \u001b[38;5;241m=\u001b[39m requests\u001b[38;5;241m.\u001b[39mpost(\n\u001b[0;32m    103\u001b[0m     req_path,\n\u001b[0;32m    104\u001b[0m     data\u001b[38;5;241m=\u001b[39mas_json,\n\u001b[0;32m    105\u001b[0m     headers\u001b[38;5;241m=\u001b[39m\u001b[38;5;28mself\u001b[39m\u001b[38;5;241m.\u001b[39mapi_headers,\n\u001b[0;32m    106\u001b[0m     timeout\u001b[38;5;241m=\u001b[39m\u001b[38;5;241m30\u001b[39m,\n\u001b[0;32m    107\u001b[0m )\n\u001b[1;32m--> 108\u001b[0m \u001b[43mexceptions\u001b[49m\u001b[38;5;241;43m.\u001b[39;49m\u001b[43mIonQAPIError\u001b[49m\u001b[38;5;241;43m.\u001b[39;49m\u001b[43mraise_for_status\u001b[49m\u001b[43m(\u001b[49m\u001b[43mres\u001b[49m\u001b[43m)\u001b[49m\n\u001b[0;32m    109\u001b[0m \u001b[38;5;28;01mreturn\u001b[39;00m res\u001b[38;5;241m.\u001b[39mjson()\n",
      "File \u001b[1;32m~\\sci\\lib\\site-packages\\qiskit_ionq\\exceptions.py:110\u001b[0m, in \u001b[0;36mIonQAPIError.raise_for_status\u001b[1;34m(cls, response)\u001b[0m\n\u001b[0;32m    108\u001b[0m \u001b[38;5;28;01mif\u001b[39;00m _is_retriable(response\u001b[38;5;241m.\u001b[39mrequest\u001b[38;5;241m.\u001b[39mmethod, status_code):\n\u001b[0;32m    109\u001b[0m     \u001b[38;5;28;01mraise\u001b[39;00m IonQRetriableError(res)\n\u001b[1;32m--> 110\u001b[0m \u001b[38;5;28;01mraise\u001b[39;00m res\n",
      "\u001b[1;31mIonQAPIError\u001b[0m: IonQAPIError(message='See https://docs.ionq.com/#tag/jobs for valid targets.',status_code=400,headers={'Date': 'Tue, 20 Jun 2023 11:41:51 GMT', 'Content-Type': 'application/json; charset=utf-8', 'Transfer-Encoding': 'chunked', 'Connection': 'keep-alive', 'cache-control': 'no-cache', 'vary': 'Origin', 'Access-Control-Allow-Credentials': 'true', 'Access-Control-Expose-Headers': 'x-ionq-session', 'strict-transport-security': \"'max-age=86400; includeSubDomains'\", 'CF-Cache-Status': 'DYNAMIC', 'Server': 'cloudflare', 'CF-RAY': '7da3bebd28c8015c-ICN'},body={\"error\":\"Bad Request\",\"statusCode\":400,\"message\":\"See https://docs.ionq.com/#tag/jobs for valid targets.\"},error_type='Bad Request')"
     ]
    }
   ],
   "source": [
    "job = backend.run(qc)"
   ]
  },
  {
   "cell_type": "code",
   "execution_count": 15,
   "id": "3ab256c3",
   "metadata": {},
   "outputs": [
    {
     "data": {
      "text/plain": [
       "{'00': 520, '11': 480}"
      ]
     },
     "execution_count": 15,
     "metadata": {},
     "output_type": "execute_result"
    }
   ],
   "source": [
    "job.get_counts()"
   ]
  }
 ],
 "metadata": {
  "kernelspec": {
   "display_name": "Python 3 (ipykernel)",
   "language": "python",
   "name": "python3"
  },
  "language_info": {
   "codemirror_mode": {
    "name": "ipython",
    "version": 3
   },
   "file_extension": ".py",
   "mimetype": "text/x-python",
   "name": "python",
   "nbconvert_exporter": "python",
   "pygments_lexer": "ipython3",
   "version": "3.10.11"
  }
 },
 "nbformat": 4,
 "nbformat_minor": 5
}
