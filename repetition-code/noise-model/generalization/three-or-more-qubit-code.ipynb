{
 "cells": [
  {
   "cell_type": "code",
   "execution_count": 25,
   "id": "4c9454b6",
   "metadata": {},
   "outputs": [],
   "source": [
    "num_qubits_list = [3]\n",
    "num_trial = 3 # 1"
   ]
  },
  {
   "cell_type": "code",
   "execution_count": 26,
   "id": "f2864bbb",
   "metadata": {},
   "outputs": [],
   "source": [
    "from qiskit_aer import AerSimulator\n",
    "from qiskit import Aer\n",
    "from qiskit import transpile"
   ]
  },
  {
   "cell_type": "code",
   "execution_count": 27,
   "id": "cbf9fd38",
   "metadata": {},
   "outputs": [],
   "source": [
    "def change_bin(bit_list) :\n",
    "    value = 0\n",
    "    for element in bit_list[::-1]:\n",
    "        value = value*2\n",
    "        value += element\n",
    "    return value\n",
    "\n",
    "\n",
    "def generate_binaries(n):\n",
    "\n",
    "    L=[[] for j in range(n)]\n",
    "\n",
    "    for i in range(pow(2,n-1)) :\n",
    "        ca = list(bin(i))[2:]\n",
    "        for j in range(len(ca)) :\n",
    "            ca[j] = int(ca[j])\n",
    "        if len(ca) < n-1 :\n",
    "            ca = [0 for k in range(n - 1 - len(ca))] + ca\n",
    "\n",
    "        num_one = 0\n",
    "        for i in range(0,n-1):\n",
    "            if ca[i] == 1:\n",
    "                num_one += 1\n",
    "\n",
    "        #print(num_one)\n",
    "        num_anc = n-1\n",
    "        if num_one < n/2:\n",
    "            for i in range(0,n-1):\n",
    "                if ca[i] == 1:\n",
    "                    L[i+1].append(change_bin(ca))\n",
    "        else: \n",
    "            L[0].append(change_bin(ca))\n",
    "            for i in range(0,n-1):\n",
    "                if ca[i] == 0:\n",
    "                    L[i+1].append(change_bin(ca)) \n",
    "    return L"
   ]
  },
  {
   "cell_type": "code",
   "execution_count": 28,
   "id": "b3a041fb",
   "metadata": {},
   "outputs": [],
   "source": [
    "from qiskit_aer.noise import NoiseModel, pauli_error"
   ]
  },
  {
   "cell_type": "code",
   "execution_count": 29,
   "id": "26aded32",
   "metadata": {},
   "outputs": [],
   "source": [
    "p_err = 0.1 # 0.03 # 0.25 # 0.1 # 0. \n",
    "\n",
    "error_inv_x = pauli_error([('X', 1 - p_err), ('I', p_err)])"
   ]
  },
  {
   "cell_type": "code",
   "execution_count": 30,
   "id": "e43884bc",
   "metadata": {},
   "outputs": [],
   "source": [
    "import qiskit.quantum_info as qi\n",
    "\n",
    "x_op = qi.Operator([[0,1],[1,0]])\n",
    "\n",
    "noise_model = NoiseModel()\n",
    "\n",
    "# noise_model.add_all_qubit_quantum_error(error_x, 'bit-flip')\n",
    "noise_model.add_all_qubit_quantum_error(error_inv_x, 'bit-flip')\n",
    "\n",
    "noise_model.add_basis_gates(['unitary'])\n",
    "\n",
    "# noise_model.add_quantum_error(error_x, 'x', [1])"
   ]
  },
  {
   "cell_type": "code",
   "execution_count": 31,
   "id": "e10655c8",
   "metadata": {},
   "outputs": [
    {
     "name": "stderr",
     "output_type": "stream",
     "text": [
      " 67%|███████████████████████████████████████████████████████████████▎                               | 2/3 [00:02<00:01,  1.41s/it]"
     ]
    },
    {
     "name": "stdout",
     "output_type": "stream",
     "text": [
      "n=3: {'01 000': 768, '00 000': 7290, '10 000': 825, '11 000': 832, '00 111': 16, '11 111': 95, '10 111': 81, '01 111': 93}\n",
      "n=3: {'01 000': 852, '00 000': 7259, '10 000': 835, '11 000': 789, '10 111': 82, '01 111': 92, '11 111': 83, '00 111': 8}\n"
     ]
    },
    {
     "name": "stderr",
     "output_type": "stream",
     "text": [
      "100%|███████████████████████████████████████████████████████████████████████████████████████████████| 3/3 [00:04<00:00,  1.36s/it]"
     ]
    },
    {
     "name": "stdout",
     "output_type": "stream",
     "text": [
      "n=3: {'01 000': 812, '00 000': 7342, '00 111': 7, '11 111': 98, '10 000': 835, '11 000': 745, '01 111': 78, '10 111': 83}\n"
     ]
    },
    {
     "name": "stderr",
     "output_type": "stream",
     "text": [
      "\n"
     ]
    }
   ],
   "source": [
    "from qiskit import QuantumRegister, ClassicalRegister, QuantumCircuit\n",
    "from numpy import pi\n",
    "import numpy as np\n",
    "from qiskit_aer.noise import pauli_error\n",
    "from tqdm import tqdm\n",
    "\n",
    "def string_1s(n):\n",
    "    ssss = '1'\n",
    "    for i in range(n-1):\n",
    "        ssss+='1'\n",
    "    return ssss\n",
    "\n",
    "def string_0s(n):\n",
    "    ssss = '0'\n",
    "    for i in range(n-1):\n",
    "        ssss+='0'\n",
    "    return ssss\n",
    "\n",
    "def return_to_bits(bit_string) :\n",
    "    b = int(bit_string,2)\n",
    "    return b\n",
    "\n",
    "error_type = 'bit-flip' # 'phase-flip'\n",
    "shots_num = 10000\n",
    "\n",
    "counts_list_list = []\n",
    "for n in num_qubits_list:\n",
    "    \n",
    "    ##### number of qubits #####\n",
    "\n",
    "    ##### number of shots #####\n",
    "\n",
    "    ##### circuit setting ######\n",
    "    q0 = QuantumRegister(n, 'qm') # message\n",
    "    q1 = QuantumRegister(n-1, 'qa') # ancillar\n",
    "    c0 = ClassicalRegister(n, 'cm')\n",
    "    c1 = ClassicalRegister(n-1, 'ca')\n",
    "    circuit = QuantumCircuit(q0, q1, c0, c1)\n",
    "\n",
    "    ##### encoding a physical qubit into a logical qubit #####\n",
    "    for i in range(1,n):\n",
    "        circuit.cx(q0[0],q0[i])\n",
    "        \n",
    "    ##### convert phase flip into bit flip #####\n",
    "    if error_type == 'phase-flip':\n",
    "        circuit.h(q0)\n",
    "    circuit.barrier(q0, q1)\n",
    "    \n",
    "    ##### introduce errors #####\n",
    "    if error_type == 'phase-flip':\n",
    "        circuit.z(q0[0])\n",
    "        circuit.z(q0[1])\n",
    "    elif error_type == 'bit-flip':\n",
    "        circuit.unitary(x_op, q0, label='bit-flip')\n",
    "    circuit.barrier(q0, q1)\n",
    "    \n",
    "    ##### convert phase flip into bit flip #####\n",
    "    if error_type == 'phase-flip':\n",
    "        circuit.h(q0)\n",
    "    \n",
    "    ##### make ancilla qubits #####\n",
    "    for i in range(0, n-1):\n",
    "        circuit.cx(q0[0], q1[i])\n",
    "        circuit.cx(q0[i+1], q1[i])\n",
    "    circuit.barrier(q0, q1)\n",
    "    \n",
    "\n",
    "    ##### measure ancillas #####\n",
    "    circuit.measure(q1,c1)\n",
    "    circuit.barrier(q0,q1)\n",
    "\n",
    "    ##### correction circuit #####\n",
    "    num_list_list = generate_binaries(n)\n",
    "    for j_qubit, num_list in enumerate(num_list_list):\n",
    "        for num in num_list:\n",
    "            circuit.x(q0[j_qubit]).c_if(c1,num)\n",
    "        \n",
    "    circuit.barrier(q0,q1)\n",
    "    \n",
    "    ##### result measurement #####\n",
    "    circuit.measure(q0,c0)\n",
    "\n",
    "    ##################################################\n",
    "#     backend = Aer.get_backend('qasm_simulator', noise_model=noise_model)\n",
    "\n",
    "#     from qiskit.providers.fake_provider  import FakeMumbai\n",
    "#     backend = FakeMumbai()\n",
    "\n",
    "#     backend = AerSimulator()\n",
    "    backend = AerSimulator(noise_model=noise_model)\n",
    "    tcirc = transpile(circuit, backend)\n",
    "\n",
    "    ##################################################\n",
    "\n",
    "    n_data = []\n",
    "    counts_list = []\n",
    "    for iteration_number in tqdm(range(num_trial)):\n",
    "        \n",
    "        iteration_data = []\n",
    "        \n",
    "        string_0 = string_0s(n)\n",
    "        string_1 = string_1s(n)\n",
    "        \n",
    "        job = backend.run(tcirc, shots=shots_num)\n",
    "        result = job.result()\n",
    "        counts = result.get_counts(tcirc)\n",
    "        \n",
    "        counts_list.append(counts)\n",
    "        print(f\"n={n}: {counts}\")\n",
    "    \n",
    "    counts_list_list.append(counts_list)\n",
    "\n",
    "#         bit_total_result = list(counts.keys())\n",
    "#         num_000 = 0\n",
    "#         for bits in bit_total_result :\n",
    "#             if bits.split()[1] == string_0 :\n",
    "#                 num_000 += counts[bits]\n",
    "#         print(\"Measured number of outcome '\" + string_0 + \"':\", num_000)\n",
    "\n",
    "#         num_111 = 0\n",
    "#         for bits in bit_total_result :\n",
    "#             if bits.split()[1] == string_1 :\n",
    "#                 num_111 += counts[bits]\n",
    "#         print(\"Measured number of outcome '\" + string_1 + \"':\", num_111)\n",
    "            \n",
    "#         ########    \n",
    "        \n",
    "#         num_eff000 = 0\n",
    "#         for bits in bit_total_result :\n",
    "#             if bin(return_to_bits(bits.split()[1]) ^ return_to_bits(string_0))[2:].count('1') < (n+1)/2 :\n",
    "#             #if bits.split()[1] == '000' or bits.split()[1] == '001' or bits.split()[1] == '010' or bits.split()[1] == '100' :\n",
    "#                 num_eff000 += counts[bits]\n",
    "#         print(\"Measured number of outcome considered as '\" + string_0 + \"':\", num_eff000)\n",
    "\n",
    "#         num_eff111 = 0\n",
    "#         for bits in bit_total_result :\n",
    "#             if bin(return_to_bits(bits.split()[1]) ^ return_to_bits(string_1))[2:].count('1') < (n+1)/2 :\n",
    "#             #if bits.split()[1] == '111' or bits.split()[1] == '110' or bits.split()[1] == '101' or bits.split()[1] == '011' :\n",
    "#                 num_eff111 += counts[bits]\n",
    "#         print(\"Measured number of outcome considered as '\" + string_1 + \"':\", num_eff111)\n",
    "        \n",
    "#         ########\n",
    "        \n",
    "#         iteration_data.append([num_000, num_111, num_eff000, num_eff111])\n",
    "#         n_data.append(iteration_data)\n",
    "        \n",
    "#     np.save(str(n) + \"_qubits.npy\", np.array(n_data))"
   ]
  },
  {
   "cell_type": "code",
   "execution_count": 54,
   "id": "9eb3be41",
   "metadata": {
    "scrolled": false
   },
   "outputs": [
    {
     "data": {
      "image/png": "[encoded data removed]",
      "text/plain": [
       "<Figure size 1904.16x618.722 with 1 Axes>"
      ]
     },
     "execution_count": 54,
     "metadata": {},
     "output_type": "execute_result"
    }
   ],
   "source": [
    "# circuit.draw('mpl', filename='circuit-test-003.png')"
   ]
  },
  {
   "cell_type": "code",
   "execution_count": 34,
   "id": "dc16a726",
   "metadata": {},
   "outputs": [],
   "source": [
    "counts = counts_list_list[0][0]"
   ]
  },
  {
   "cell_type": "code",
   "execution_count": 46,
   "id": "50f5c652",
   "metadata": {},
   "outputs": [],
   "source": [
    "def counts_to_merged_counts(counts):\n",
    "\n",
    "    data_list = set([k.split()[-1] for k in counts.keys()])\n",
    "    word_lengths = [len(word) for word in data_list]\n",
    "    nq = word_lengths[0]\n",
    "#     nq = num_qubits_list[0]\n",
    "    assert all([nq == word for word in word_lengths])\n",
    "\n",
    "    all_0 = '0' * nq\n",
    "    all_1 = '1' * nq\n",
    "    counts_data = {all_0:0, all_1:0}\n",
    "    for k, v in counts.items():\n",
    "        if k[-nq:] == all_0:\n",
    "            counts_data[all_0] += v\n",
    "        else:\n",
    "            counts_data[all_1] += v\n",
    "            \n",
    "#     return counts_data\n",
    "    return counts_data[all_0], counts_data[all_1]"
   ]
  },
  {
   "cell_type": "code",
   "execution_count": 49,
   "id": "079419e5",
   "metadata": {},
   "outputs": [],
   "source": [
    "# counts_to_logical_err"
   ]
  },
  {
   "cell_type": "code",
   "execution_count": 52,
   "id": "8debcf75",
   "metadata": {},
   "outputs": [],
   "source": [
    "# counts_data"
   ]
  },
  {
   "cell_type": "code",
   "execution_count": 53,
   "id": "f693d8fc",
   "metadata": {},
   "outputs": [
    {
     "data": {
      "text/plain": [
       "array([[9715,  285],\n",
       "       [9735,  265],\n",
       "       [9734,  266]], dtype=int64)"
      ]
     },
     "execution_count": 53,
     "metadata": {},
     "output_type": "execute_result"
    }
   ],
   "source": [
    "counts_trials = np.empty((num_trial,2), dtype=np.int64)\n",
    "for j_trial in range(num_trial):\n",
    "    merged_counts = counts_to_merged_counts(counts_list_list[0][j_trial])\n",
    "    counts_trials[j_trial] = merged_counts\n",
    "    \n",
    "counts_trials"
   ]
  },
  {
   "cell_type": "code",
   "execution_count": 56,
   "id": "1d2e70f4",
   "metadata": {},
   "outputs": [],
   "source": [
    "# np.save(f'counts-000-111_bit-flip_p-{p_err:.3g}_numqubits-{num_qubits_list[0]}_test-002.npy', counts_trials)"
   ]
  },
  {
   "cell_type": "code",
   "execution_count": 13,
   "id": "f5141732",
   "metadata": {},
   "outputs": [],
   "source": [
    "assert sum(counts_data.values()) == shots_num"
   ]
  },
  {
   "cell_type": "code",
   "execution_count": 14,
   "id": "591d0906",
   "metadata": {},
   "outputs": [],
   "source": [
    "p_logical_err = 1 - counts_data[all_0] / sum(counts_data.values())"
   ]
  },
  {
   "cell_type": "code",
   "execution_count": 15,
   "id": "a2a5db4f",
   "metadata": {},
   "outputs": [],
   "source": [
    "nq_div_2, r_ = divmod(nq, 2)\n",
    "assert r_ == 1"
   ]
  },
  {
   "cell_type": "code",
   "execution_count": 16,
   "id": "26bdefca",
   "metadata": {},
   "outputs": [
    {
     "data": {
      "text/plain": [
       "1"
      ]
     },
     "execution_count": 16,
     "metadata": {},
     "output_type": "execute_result"
    }
   ],
   "source": [
    "nq_div_2"
   ]
  },
  {
   "cell_type": "code",
   "execution_count": 17,
   "id": "008ca0c5",
   "metadata": {},
   "outputs": [],
   "source": [
    "from math import comb"
   ]
  },
  {
   "cell_type": "code",
   "execution_count": 18,
   "id": "db1c817d",
   "metadata": {},
   "outputs": [
    {
     "data": {
      "text/plain": [
       "3"
      ]
     },
     "execution_count": 18,
     "metadata": {},
     "output_type": "execute_result"
    }
   ],
   "source": [
    "comb(3,2)"
   ]
  },
  {
   "cell_type": "code",
   "execution_count": 19,
   "id": "39b363ee",
   "metadata": {},
   "outputs": [],
   "source": [
    "p_logical_err_theor = 0.\n",
    "for jj in range(nq_div_2+1):\n",
    "    p_logical_err_theor += comb(nq,jj) * pow(p_err,nq-jj) * pow(1-p_err,jj)"
   ]
  },
  {
   "cell_type": "code",
   "execution_count": 20,
   "id": "62c9843a",
   "metadata": {},
   "outputs": [
    {
     "data": {
      "text/plain": [
       "(0.027900000000000036, 0.028000000000000008)"
      ]
     },
     "execution_count": 20,
     "metadata": {},
     "output_type": "execute_result"
    }
   ],
   "source": [
    "p_logical_err, p_logical_err_theor"
   ]
  },
  {
   "cell_type": "code",
   "execution_count": 21,
   "id": "4219b8ed",
   "metadata": {},
   "outputs": [],
   "source": [
    "from qiskit.visualization import plot_histogram"
   ]
  },
  {
   "cell_type": "code",
   "execution_count": 24,
   "id": "f72ea297",
   "metadata": {},
   "outputs": [],
   "source": [
    "# plot_histogram(counts_list_list[0][0], filename=f'hist-7-rep-p-{p_err:.3g}-test-002.png')"
   ]
  },
  {
   "cell_type": "code",
   "execution_count": 23,
   "id": "f6482afd",
   "metadata": {
    "scrolled": false
   },
   "outputs": [
    {
     "data": {
      "text/html": [
       "<pre style=\"word-wrap: normal;white-space: pre;background: #fff0;line-height: 1.1;font-family: &quot;Courier New&quot;,Courier,monospace\">                 ░ ┌──────────┐ ░                      ░        ░ ┌───────┐»\n",
       "qm_0: ──■────■───░─┤ bit-flip ├─░───■────■─────────────░────────░─┤ Rz(π) ├»\n",
       "      ┌─┴─┐  │   ░ ├──────────┤ ░   │    │             ░        ░ └───╥───┘»\n",
       "qm_1: ┤ X ├──┼───░─┤ bit-flip ├─░───┼────┼────■────────░────────░─────╫────»\n",
       "      └───┘┌─┴─┐ ░ ├──────────┤ ░   │    │    │        ░        ░     ║    »\n",
       "qm_2: ─────┤ X ├─░─┤ bit-flip ├─░───┼────┼────┼────■───░────────░─────╫────»\n",
       "           └───┘ ░ └──────────┘ ░ ┌─┴─┐  │  ┌─┴─┐  │   ░ ┌─┐    ░     ║    »\n",
       "qa_0: ───────────░──────────────░─┤ X ├──┼──┤ X ├──┼───░─┤M├────░─────╫────»\n",
       "                 ░              ░ └───┘┌─┴─┐└───┘┌─┴─┐ ░ └╥┘┌─┐ ░     ║    »\n",
       "qa_1: ───────────░──────────────░──────┤ X ├─────┤ X ├─░──╫─┤M├─░─────╫────»\n",
       "                 ░              ░      └───┘     └───┘ ░  ║ └╥┘ ░     ║    »\n",
       "cm: 3/════════════════════════════════════════════════════╬══╬════════╬════»\n",
       "                                                          ║  ║     ┌──╨──┐ »\n",
       "ca: 2/════════════════════════════════════════════════════╩══╩═════╡ 0x3 ╞═»\n",
       "                                                          0  1     └─────┘ »\n",
       "«       ┌────┐┌────────┐ ┌────┐┌────────┐                                 »\n",
       "«qm_0: ─┤ √X ├┤ Rz(2π) ├─┤ √X ├┤ Rz(3π) ├─────────────────────────────────»\n",
       "«       └─╥──┘└───╥────┘ └─╥──┘└───╥────┘┌───────┐ ┌────┐┌────────┐ ┌────┐»\n",
       "«qm_1: ───╫───────╫────────╫───────╫─────┤ Rz(π) ├─┤ √X ├┤ Rz(2π) ├─┤ √X ├»\n",
       "«         ║       ║        ║       ║     └───╥───┘ └─╥──┘└───╥────┘ └─╥──┘»\n",
       "«qm_2: ───╫───────╫────────╫───────╫─────────╫───────╫───────╫────────╫───»\n",
       "«         ║       ║        ║       ║         ║       ║       ║        ║   »\n",
       "«qa_0: ───╫───────╫────────╫───────╫─────────╫───────╫───────╫────────╫───»\n",
       "«         ║       ║        ║       ║         ║       ║       ║        ║   »\n",
       "«qa_1: ───╫───────╫────────╫───────╫─────────╫───────╫───────╫────────╫───»\n",
       "«         ║       ║        ║       ║         ║       ║       ║        ║   »\n",
       "«cm: 3/═══╬═══════╬════════╬═══════╬═════════╬═══════╬═══════╬════════╬═══»\n",
       "«      ┌──╨──┐ ┌──╨──┐  ┌──╨──┐ ┌──╨──┐   ┌──╨──┐ ┌──╨──┐ ┌──╨──┐  ┌──╨──┐»\n",
       "«ca: 2/╡ 0x3 ╞═╡ 0x3 ╞══╡ 0x3 ╞═╡ 0x3 ╞═══╡ 0x1 ╞═╡ 0x1 ╞═╡ 0x1 ╞══╡ 0x1 ╞»\n",
       "«      └─────┘ └─────┘  └─────┘ └─────┘   └─────┘ └─────┘ └─────┘  └─────┘»\n",
       "«                                                            ░ ┌─┐      \n",
       "«qm_0: ──────────────────────────────────────────────────────░─┤M├──────\n",
       "«      ┌────────┐                                            ░ └╥┘┌─┐   \n",
       "«qm_1: ┤ Rz(3π) ├────────────────────────────────────────────░──╫─┤M├───\n",
       "«      └───╥────┘┌───────┐ ┌────┐┌────────┐ ┌────┐┌────────┐ ░  ║ └╥┘┌─┐\n",
       "«qm_2: ────╫─────┤ Rz(π) ├─┤ √X ├┤ Rz(2π) ├─┤ √X ├┤ Rz(3π) ├─░──╫──╫─┤M├\n",
       "«          ║     └───╥───┘ └─╥──┘└───╥────┘ └─╥──┘└───╥────┘ ░  ║  ║ └╥┘\n",
       "«qa_0: ────╫─────────╫───────╫───────╫────────╫───────╫──────░──╫──╫──╫─\n",
       "«          ║         ║       ║       ║        ║       ║      ░  ║  ║  ║ \n",
       "«qa_1: ────╫─────────╫───────╫───────╫────────╫───────╫──────░──╫──╫──╫─\n",
       "«          ║         ║       ║       ║        ║       ║      ░  ║  ║  ║ \n",
       "«cm: 3/════╬═════════╬═══════╬═══════╬════════╬═══════╬═════════╩══╩══╩═\n",
       "«       ┌──╨──┐   ┌──╨──┐ ┌──╨──┐ ┌──╨──┐  ┌──╨──┐ ┌──╨──┐      0  1  2 \n",
       "«ca: 2/═╡ 0x1 ╞═══╡ 0x2 ╞═╡ 0x2 ╞═╡ 0x2 ╞══╡ 0x2 ╞═╡ 0x2 ╞══════════════\n",
       "«       └─────┘   └─────┘ └─────┘ └─────┘  └─────┘ └─────┘              </pre>"
      ],
      "text/plain": [
       "                 ░ ┌──────────┐ ░                      ░        ░ ┌───────┐»\n",
       "qm_0: ──■────■───░─┤ bit-flip ├─░───■────■─────────────░────────░─┤ Rz(π) ├»\n",
       "      ┌─┴─┐  │   ░ ├──────────┤ ░   │    │             ░        ░ └───╥───┘»\n",
       "qm_1: ┤ X ├──┼───░─┤ bit-flip ├─░───┼────┼────■────────░────────░─────╫────»\n",
       "      └───┘┌─┴─┐ ░ ├──────────┤ ░   │    │    │        ░        ░     ║    »\n",
       "qm_2: ─────┤ X ├─░─┤ bit-flip ├─░───┼────┼────┼────■───░────────░─────╫────»\n",
       "           └───┘ ░ └──────────┘ ░ ┌─┴─┐  │  ┌─┴─┐  │   ░ ┌─┐    ░     ║    »\n",
       "qa_0: ───────────░──────────────░─┤ X ├──┼──┤ X ├──┼───░─┤M├────░─────╫────»\n",
       "                 ░              ░ └───┘┌─┴─┐└───┘┌─┴─┐ ░ └╥┘┌─┐ ░     ║    »\n",
       "qa_1: ───────────░──────────────░──────┤ X ├─────┤ X ├─░──╫─┤M├─░─────╫────»\n",
       "                 ░              ░      └───┘     └───┘ ░  ║ └╥┘ ░     ║    »\n",
       "cm: 3/════════════════════════════════════════════════════╬══╬════════╬════»\n",
       "                                                          ║  ║     ┌──╨──┐ »\n",
       "ca: 2/════════════════════════════════════════════════════╩══╩═════╡ 0x3 ╞═»\n",
       "                                                          0  1     └─────┘ »\n",
       "«       ┌────┐┌────────┐ ┌────┐┌────────┐                                 »\n",
       "«qm_0: ─┤ √X ├┤ Rz(2π) ├─┤ √X ├┤ Rz(3π) ├─────────────────────────────────»\n",
       "«       └─╥──┘└───╥────┘ └─╥──┘└───╥────┘┌───────┐ ┌────┐┌────────┐ ┌────┐»\n",
       "«qm_1: ───╫───────╫────────╫───────╫─────┤ Rz(π) ├─┤ √X ├┤ Rz(2π) ├─┤ √X ├»\n",
       "«         ║       ║        ║       ║     └───╥───┘ └─╥──┘└───╥────┘ └─╥──┘»\n",
       "«qm_2: ───╫───────╫────────╫───────╫─────────╫───────╫───────╫────────╫───»\n",
       "«         ║       ║        ║       ║         ║       ║       ║        ║   »\n",
       "«qa_0: ───╫───────╫────────╫───────╫─────────╫───────╫───────╫────────╫───»\n",
       "«         ║       ║        ║       ║         ║       ║       ║        ║   »\n",
       "«qa_1: ───╫───────╫────────╫───────╫─────────╫───────╫───────╫────────╫───»\n",
       "«         ║       ║        ║       ║         ║       ║       ║        ║   »\n",
       "«cm: 3/═══╬═══════╬════════╬═══════╬═════════╬═══════╬═══════╬════════╬═══»\n",
       "«      ┌──╨──┐ ┌──╨──┐  ┌──╨──┐ ┌──╨──┐   ┌──╨──┐ ┌──╨──┐ ┌──╨──┐  ┌──╨──┐»\n",
       "«ca: 2/╡ 0x3 ╞═╡ 0x3 ╞══╡ 0x3 ╞═╡ 0x3 ╞═══╡ 0x1 ╞═╡ 0x1 ╞═╡ 0x1 ╞══╡ 0x1 ╞»\n",
       "«      └─────┘ └─────┘  └─────┘ └─────┘   └─────┘ └─────┘ └─────┘  └─────┘»\n",
       "«                                                            ░ ┌─┐      \n",
       "«qm_0: ──────────────────────────────────────────────────────░─┤M├──────\n",
       "«      ┌────────┐                                            ░ └╥┘┌─┐   \n",
       "«qm_1: ┤ Rz(3π) ├────────────────────────────────────────────░──╫─┤M├───\n",
       "«      └───╥────┘┌───────┐ ┌────┐┌────────┐ ┌────┐┌────────┐ ░  ║ └╥┘┌─┐\n",
       "«qm_2: ────╫─────┤ Rz(π) ├─┤ √X ├┤ Rz(2π) ├─┤ √X ├┤ Rz(3π) ├─░──╫──╫─┤M├\n",
       "«          ║     └───╥───┘ └─╥──┘└───╥────┘ └─╥──┘└───╥────┘ ░  ║  ║ └╥┘\n",
       "«qa_0: ────╫─────────╫───────╫───────╫────────╫───────╫──────░──╫──╫──╫─\n",
       "«          ║         ║       ║       ║        ║       ║      ░  ║  ║  ║ \n",
       "«qa_1: ────╫─────────╫───────╫───────╫────────╫───────╫──────░──╫──╫──╫─\n",
       "«          ║         ║       ║       ║        ║       ║      ░  ║  ║  ║ \n",
       "«cm: 3/════╬═════════╬═══════╬═══════╬════════╬═══════╬═════════╩══╩══╩═\n",
       "«       ┌──╨──┐   ┌──╨──┐ ┌──╨──┐ ┌──╨──┐  ┌──╨──┐ ┌──╨──┐      0  1  2 \n",
       "«ca: 2/═╡ 0x1 ╞═══╡ 0x2 ╞═╡ 0x2 ╞═╡ 0x2 ╞══╡ 0x2 ╞═╡ 0x2 ╞══════════════\n",
       "«       └─────┘   └─────┘ └─────┘ └─────┘  └─────┘ └─────┘              "
      ]
     },
     "execution_count": 23,
     "metadata": {},
     "output_type": "execute_result"
    }
   ],
   "source": [
    "tcirc.draw()"
   ]
  }
 ],
 "metadata": {
  "kernelspec": {
   "display_name": "Python 3 (ipykernel)",
   "language": "python",
   "name": "python3"
  },
  "language_info": {
   "codemirror_mode": {
    "name": "ipython",
    "version": 3
   },
   "file_extension": ".py",
   "mimetype": "text/x-python",
   "name": "python",
   "nbconvert_exporter": "python",
   "pygments_lexer": "ipython3",
   "version": "3.10.11"
  }
 },
 "nbformat": 4,
 "nbformat_minor": 5
}
