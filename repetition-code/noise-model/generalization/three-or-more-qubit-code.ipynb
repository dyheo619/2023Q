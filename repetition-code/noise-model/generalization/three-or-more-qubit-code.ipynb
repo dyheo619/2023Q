{
 "cells": [
  {
   "cell_type": "code",
   "execution_count": 1,
   "id": "7be97db7",
   "metadata": {},
   "outputs": [],
   "source": [
    "num_qubits_list = [3] # [5]\n",
    "num_trial = 20 # 3 # 1"
   ]
  },
  {
   "cell_type": "code",
   "execution_count": 2,
   "id": "d65ce2fd",
   "metadata": {},
   "outputs": [],
   "source": [
    "from qiskit_aer import AerSimulator\n",
    "from qiskit import Aer\n",
    "from qiskit import transpile"
   ]
  },
  {
   "cell_type": "code",
   "execution_count": 3,
   "id": "9607cbd6",
   "metadata": {},
   "outputs": [],
   "source": [
    "def change_bin(bit_list) :\n",
    "    value = 0\n",
    "    for element in bit_list[::-1]:\n",
    "        value = value*2\n",
    "        value += element\n",
    "    return value\n",
    "\n",
    "\n",
    "def generate_binaries(n):\n",
    "\n",
    "    L=[[] for j in range(n)]\n",
    "\n",
    "    for i in range(pow(2,n-1)) :\n",
    "        ca = list(bin(i))[2:]\n",
    "        for j in range(len(ca)) :\n",
    "            ca[j] = int(ca[j])\n",
    "        if len(ca) < n-1 :\n",
    "            ca = [0 for k in range(n - 1 - len(ca))] + ca\n",
    "\n",
    "        num_one = 0\n",
    "        for i in range(0,n-1):\n",
    "            if ca[i] == 1:\n",
    "                num_one += 1\n",
    "\n",
    "        #print(num_one)\n",
    "        num_anc = n-1\n",
    "        if num_one < n/2:\n",
    "            for i in range(0,n-1):\n",
    "                if ca[i] == 1:\n",
    "                    L[i+1].append(change_bin(ca))\n",
    "        else: \n",
    "            L[0].append(change_bin(ca))\n",
    "            for i in range(0,n-1):\n",
    "                if ca[i] == 0:\n",
    "                    L[i+1].append(change_bin(ca)) \n",
    "    return L"
   ]
  },
  {
   "cell_type": "code",
   "execution_count": 4,
   "id": "e5645670",
   "metadata": {},
   "outputs": [],
   "source": [
    "from qiskit_aer.noise import NoiseModel, pauli_error"
   ]
  },
  {
   "cell_type": "code",
   "execution_count": 10,
   "id": "0aca3dfa",
   "metadata": {},
   "outputs": [],
   "source": [
    "p_err = 0.1 # 0.03 # 0.25 # 0.1 # 0. \n",
    "\n",
    "error_inv_x = pauli_error([('X', 1 - p_err), ('I', p_err)])\n",
    "error_inv_z = pauli_error([('Z', 1 - p_err), ('I', p_err)])"
   ]
  },
  {
   "cell_type": "code",
   "execution_count": 13,
   "id": "91edbdee",
   "metadata": {},
   "outputs": [],
   "source": [
    "import qiskit.quantum_info as qi\n",
    "\n",
    "x_op = qi.Operator([[0,1],[1,0]])\n",
    "z_op = qi.Operator([[1,0],[0,-1]])\n",
    "\n",
    "noise_model = NoiseModel()\n",
    "\n",
    "# noise_model.add_all_qubit_quantum_error(error_x, 'bit-flip')\n",
    "noise_model.add_all_qubit_quantum_error(error_inv_x, 'bit-flip')\n",
    "noise_model.add_all_qubit_quantum_error(error_inv_z, 'phase-flip')\n",
    "\n",
    "noise_model.add_basis_gates(['unitary'])\n",
    "\n",
    "# noise_model.add_quantum_error(error_x, 'x', [1])"
   ]
  },
  {
   "cell_type": "code",
   "execution_count": 14,
   "id": "e10655c8",
   "metadata": {},
   "outputs": [
    {
     "name": "stderr",
     "output_type": "stream",
     "text": [
      " 10%|█████████▍                                                                                    | 2/20 [00:04<00:42,  2.36s/it]"
     ]
    },
    {
     "name": "stdout",
     "output_type": "stream",
     "text": [
      "n=3: {'01 000': 790, '00 000': 7293, '10 000': 797, '11 000': 834, '10 111': 94, '01 111': 87, '00 111': 14, '11 111': 91}\n",
      "n=3: {'01 000': 869, '00 000': 7238, '11 000': 846, '10 000': 794, '10 111': 77, '01 111': 95, '11 111': 68, '00 111': 13}\n"
     ]
    },
    {
     "name": "stderr",
     "output_type": "stream",
     "text": [
      " 20%|██████████████████▊                                                                           | 4/20 [00:10<00:41,  2.59s/it]"
     ]
    },
    {
     "name": "stdout",
     "output_type": "stream",
     "text": [
      "n=3: {'00 000': 7235, '01 000': 842, '10 000': 835, '11 000': 809, '00 111': 11, '11 111': 83, '01 111': 96, '10 111': 89}\n",
      "n=3: {'01 000': 825, '00 000': 7296, '10 000': 809, '11 000': 763, '11 111': 97, '00 111': 12, '10 111': 104, '01 111': 94}\n"
     ]
    },
    {
     "name": "stderr",
     "output_type": "stream",
     "text": [
      " 30%|████████████████████████████▏                                                                 | 6/20 [00:14<00:33,  2.36s/it]"
     ]
    },
    {
     "name": "stdout",
     "output_type": "stream",
     "text": [
      "n=3: {'01 000': 766, '00 000': 7404, '11 000': 803, '10 000': 785, '10 111': 79, '01 111': 91, '00 111': 6, '11 111': 66}\n",
      "n=3: {'00 111': 8, '11 111': 87, '11 000': 842, '10 000': 818, '01 000': 843, '00 000': 7225, '01 111': 93, '10 111': 84}\n"
     ]
    },
    {
     "name": "stderr",
     "output_type": "stream",
     "text": [
      " 40%|█████████████████████████████████████▌                                                        | 8/20 [00:19<00:27,  2.31s/it]"
     ]
    },
    {
     "name": "stdout",
     "output_type": "stream",
     "text": [
      "n=3: {'01 000': 819, '00 000': 7261, '10 000': 813, '11 000': 831, '00 111': 8, '11 111': 82, '01 111': 95, '10 111': 91}\n",
      "n=3: {'00 000': 7307, '01 000': 833, '10 000': 791, '11 000': 792, '10 111': 80, '01 111': 84, '00 111': 14, '11 111': 99}\n"
     ]
    },
    {
     "name": "stderr",
     "output_type": "stream",
     "text": [
      " 50%|██████████████████████████████████████████████▌                                              | 10/20 [00:23<00:22,  2.28s/it]"
     ]
    },
    {
     "name": "stdout",
     "output_type": "stream",
     "text": [
      "n=3: {'01 000': 814, '00 000': 7351, '10 000': 790, '11 000': 785, '00 111': 8, '11 111': 74, '01 111': 104, '10 111': 74}\n",
      "n=3: {'01 000': 824, '00 000': 7304, '00 111': 9, '11 111': 94, '11 000': 824, '10 000': 776, '10 111': 84, '01 111': 85}\n"
     ]
    },
    {
     "name": "stderr",
     "output_type": "stream",
     "text": [
      " 60%|███████████████████████████████████████████████████████▊                                     | 12/20 [00:27<00:17,  2.21s/it]"
     ]
    },
    {
     "name": "stdout",
     "output_type": "stream",
     "text": [
      "n=3: {'01 000': 772, '00 000': 7343, '01 111': 91, '10 111': 77, '11 000': 833, '10 000': 794, '00 111': 6, '11 111': 84}\n",
      "n=3: {'01 000': 798, '00 000': 7311, '01 111': 84, '10 111': 84, '10 000': 820, '11 000': 792, '00 111': 11, '11 111': 100}\n"
     ]
    },
    {
     "name": "stderr",
     "output_type": "stream",
     "text": [
      "\r",
      " 65%|████████████████████████████████████████████████████████████▍                                | 13/20 [00:29<00:14,  2.11s/it]"
     ]
    },
    {
     "name": "stdout",
     "output_type": "stream",
     "text": [
      "n=3: {'00 000': 7340, '01 000': 762, '10 000': 835, '11 000': 788, '00 111': 11, '11 111': 85, '10 111': 96, '01 111': 83}\n",
      "n=3: {'00 000': 7311, '01 000': 807, '10 111': 94, '01 111': 80, '10 000': 776, '11 000': 817, '00 111': 7, '11 111': 108}\n"
     ]
    },
    {
     "name": "stderr",
     "output_type": "stream",
     "text": [
      " 75%|█████████████████████████████████████████████████████████████████████▊                       | 15/20 [00:33<00:10,  2.01s/it]"
     ]
    },
    {
     "name": "stdout",
     "output_type": "stream",
     "text": [
      "n=3: {'10 111': 89, '01 111': 93, '01 000': 829, '00 000': 7297, '11 000': 781, '10 000': 826, '11 111': 77, '00 111': 8}\n",
      "n=3: {'01 000': 821, '00 000': 7217, '10 000': 840, '11 000': 871, '01 111': 79, '10 111': 96, '00 111': 10, '11 111': 66}\n"
     ]
    },
    {
     "name": "stderr",
     "output_type": "stream",
     "text": [
      " 90%|███████████████████████████████████████████████████████████████████████████████████▋         | 18/20 [00:39<00:03,  1.91s/it]"
     ]
    },
    {
     "name": "stdout",
     "output_type": "stream",
     "text": [
      "n=3: {'01 000': 772, '00 000': 7309, '10 000': 838, '11 000': 814, '10 111': 74, '01 111': 94, '00 111': 9, '11 111': 90}\n",
      "n=3: {'01 000': 811, '00 000': 7327, '11 000': 791, '10 000': 780, '01 111': 88, '10 111': 97, '00 111': 13, '11 111': 93}\n"
     ]
    },
    {
     "name": "stderr",
     "output_type": "stream",
     "text": [
      "100%|█████████████████████████████████████████████████████████████████████████████████████████████| 20/20 [00:43<00:00,  1.95s/it]"
     ]
    },
    {
     "name": "stdout",
     "output_type": "stream",
     "text": [
      "n=3: {'01 000': 829, '00 000': 7374, '10 000': 759, '11 000': 767, '10 111': 92, '01 111': 74, '00 111': 14, '11 111': 91}\n",
      "n=3: {'01 000': 793, '00 000': 7371, '11 000': 787, '10 000': 779, '01 111': 74, '10 111': 98, '00 111': 9, '11 111': 89}\n"
     ]
    },
    {
     "name": "stderr",
     "output_type": "stream",
     "text": [
      "100%|█████████████████████████████████████████████████████████████████████████████████████████████| 20/20 [00:43<00:00,  2.16s/it]\n"
     ]
    }
   ],
   "source": [
    "from qiskit import QuantumRegister, ClassicalRegister, QuantumCircuit\n",
    "from numpy import pi\n",
    "import numpy as np\n",
    "from qiskit_aer.noise import pauli_error\n",
    "from tqdm import tqdm\n",
    "\n",
    "def string_1s(n):\n",
    "    ssss = '1'\n",
    "    for i in range(n-1):\n",
    "        ssss+='1'\n",
    "    return ssss\n",
    "\n",
    "def string_0s(n):\n",
    "    ssss = '0'\n",
    "    for i in range(n-1):\n",
    "        ssss+='0'\n",
    "    return ssss\n",
    "\n",
    "def return_to_bits(bit_string) :\n",
    "    b = int(bit_string,2)\n",
    "    return b\n",
    "\n",
    "error_type = 'phase-flip' # 'bit-flip'\n",
    "shots_num = 10000\n",
    "\n",
    "counts_list_list = []\n",
    "for n in num_qubits_list:\n",
    "    \n",
    "    ##### number of qubits #####\n",
    "\n",
    "    ##### number of shots #####\n",
    "\n",
    "    ##### circuit setting ######\n",
    "    q0 = QuantumRegister(n, 'qm') # message\n",
    "    q1 = QuantumRegister(n-1, 'qa') # ancillar\n",
    "    c0 = ClassicalRegister(n, 'cm')\n",
    "    c1 = ClassicalRegister(n-1, 'ca')\n",
    "    circuit = QuantumCircuit(q0, q1, c0, c1)\n",
    "\n",
    "    ##### encoding a physical qubit into a logical qubit #####\n",
    "    for i in range(1,n):\n",
    "        circuit.cx(q0[0],q0[i])\n",
    "        \n",
    "    ##### convert phase flip into bit flip #####\n",
    "    if error_type == 'phase-flip':\n",
    "        circuit.h(q0)\n",
    "    circuit.barrier(q0, q1)\n",
    "    \n",
    "    ##### introduce errors #####\n",
    "    if error_type == 'phase-flip':\n",
    "        circuit.unitary(z_op, q0, label='phase-flip')\n",
    "#         circuit.z(q0[0])\n",
    "#         circuit.z(q0[1])\n",
    "    elif error_type == 'bit-flip':\n",
    "        circuit.unitary(x_op, q0, label='bit-flip')\n",
    "    circuit.barrier(q0, q1)\n",
    "    \n",
    "    ##### convert phase flip into bit flip #####\n",
    "    if error_type == 'phase-flip':\n",
    "        circuit.h(q0)\n",
    "    \n",
    "    ##### make ancilla qubits #####\n",
    "    for i in range(0, n-1):\n",
    "        circuit.cx(q0[0], q1[i])\n",
    "        circuit.cx(q0[i+1], q1[i])\n",
    "    circuit.barrier(q0, q1)\n",
    "    \n",
    "\n",
    "    ##### measure ancillas #####\n",
    "    circuit.measure(q1,c1)\n",
    "    circuit.barrier(q0,q1)\n",
    "\n",
    "    ##### correction circuit #####\n",
    "    num_list_list = generate_binaries(n)\n",
    "    for j_qubit, num_list in enumerate(num_list_list):\n",
    "        for num in num_list:\n",
    "            circuit.x(q0[j_qubit]).c_if(c1,num)\n",
    "        \n",
    "    circuit.barrier(q0,q1)\n",
    "    \n",
    "    ##### result measurement #####\n",
    "    circuit.measure(q0,c0)\n",
    "\n",
    "    ##################################################\n",
    "#     backend = Aer.get_backend('qasm_simulator', noise_model=noise_model)\n",
    "\n",
    "#     from qiskit.providers.fake_provider  import FakeMumbai\n",
    "#     backend = FakeMumbai()\n",
    "\n",
    "#     backend = AerSimulator()\n",
    "    backend = AerSimulator(noise_model=noise_model)\n",
    "    tcirc = transpile(circuit, backend)\n",
    "\n",
    "    ##################################################\n",
    "\n",
    "    n_data = []\n",
    "    counts_list = []\n",
    "    for iteration_number in tqdm(range(num_trial)):\n",
    "        \n",
    "        iteration_data = []\n",
    "        \n",
    "        string_0 = string_0s(n)\n",
    "        string_1 = string_1s(n)\n",
    "        \n",
    "        job = backend.run(tcirc, shots=shots_num)\n",
    "        result = job.result()\n",
    "        counts = result.get_counts(tcirc)\n",
    "        \n",
    "        counts_list.append(counts)\n",
    "        print(f\"n={n}: {counts}\")\n",
    "    \n",
    "    counts_list_list.append(counts_list)\n",
    "\n",
    "#         bit_total_result = list(counts.keys())\n",
    "#         num_000 = 0\n",
    "#         for bits in bit_total_result :\n",
    "#             if bits.split()[1] == string_0 :\n",
    "#                 num_000 += counts[bits]\n",
    "#         print(\"Measured number of outcome '\" + string_0 + \"':\", num_000)\n",
    "\n",
    "#         num_111 = 0\n",
    "#         for bits in bit_total_result :\n",
    "#             if bits.split()[1] == string_1 :\n",
    "#                 num_111 += counts[bits]\n",
    "#         print(\"Measured number of outcome '\" + string_1 + \"':\", num_111)\n",
    "            \n",
    "#         ########    \n",
    "        \n",
    "#         num_eff000 = 0\n",
    "#         for bits in bit_total_result :\n",
    "#             if bin(return_to_bits(bits.split()[1]) ^ return_to_bits(string_0))[2:].count('1') < (n+1)/2 :\n",
    "#             #if bits.split()[1] == '000' or bits.split()[1] == '001' or bits.split()[1] == '010' or bits.split()[1] == '100' :\n",
    "#                 num_eff000 += counts[bits]\n",
    "#         print(\"Measured number of outcome considered as '\" + string_0 + \"':\", num_eff000)\n",
    "\n",
    "#         num_eff111 = 0\n",
    "#         for bits in bit_total_result :\n",
    "#             if bin(return_to_bits(bits.split()[1]) ^ return_to_bits(string_1))[2:].count('1') < (n+1)/2 :\n",
    "#             #if bits.split()[1] == '111' or bits.split()[1] == '110' or bits.split()[1] == '101' or bits.split()[1] == '011' :\n",
    "#                 num_eff111 += counts[bits]\n",
    "#         print(\"Measured number of outcome considered as '\" + string_1 + \"':\", num_eff111)\n",
    "        \n",
    "#         ########\n",
    "        \n",
    "#         iteration_data.append([num_000, num_111, num_eff000, num_eff111])\n",
    "#         n_data.append(iteration_data)\n",
    "        \n",
    "#     np.save(str(n) + \"_qubits.npy\", np.array(n_data))"
   ]
  },
  {
   "cell_type": "code",
   "execution_count": 15,
   "id": "0e40bfdb",
   "metadata": {
    "scrolled": false
   },
   "outputs": [
    {
     "data": {
      "image/png": "[encoded data removed]",
      "text/plain": [
       "<Figure size 2071.38x618.722 with 1 Axes>"
      ]
     },
     "execution_count": 15,
     "metadata": {},
     "output_type": "execute_result"
    }
   ],
   "source": [
    "# circuit.draw('mpl', filename='circuit-test-008.png')"
   ]
  },
  {
   "cell_type": "code",
   "execution_count": 16,
   "id": "1a357ddf",
   "metadata": {},
   "outputs": [],
   "source": [
    "# counts = counts_list_list[0][0]"
   ]
  },
  {
   "cell_type": "code",
   "execution_count": 17,
   "id": "6f4c0433",
   "metadata": {},
   "outputs": [],
   "source": [
    "def counts_to_merged_counts(counts):\n",
    "\n",
    "    data_list = set([k.split()[-1] for k in counts.keys()])\n",
    "    word_lengths = [len(word) for word in data_list]\n",
    "    nq = word_lengths[0]\n",
    "#     nq = num_qubits_list[0]\n",
    "    assert all([nq == word for word in word_lengths])\n",
    "\n",
    "    all_0 = '0' * nq\n",
    "    all_1 = '1' * nq\n",
    "    counts_data = {all_0:0, all_1:0}\n",
    "    for k, v in counts.items():\n",
    "        if k[-nq:] == all_0:\n",
    "            counts_data[all_0] += v\n",
    "        else:\n",
    "            counts_data[all_1] += v\n",
    "            \n",
    "#     return counts_data\n",
    "    return counts_data[all_0], counts_data[all_1]"
   ]
  },
  {
   "cell_type": "code",
   "execution_count": 18,
   "id": "5cf44ad1",
   "metadata": {},
   "outputs": [],
   "source": [
    "# counts_to_logical_err\n",
    "\n",
    "# counts_data"
   ]
  },
  {
   "cell_type": "code",
   "execution_count": 19,
   "id": "6debf171",
   "metadata": {},
   "outputs": [
    {
     "data": {
      "text/plain": [
       "array([[9714,  286],\n",
       "       [9747,  253],\n",
       "       [9721,  279],\n",
       "       [9693,  307],\n",
       "       [9758,  242],\n",
       "       [9728,  272],\n",
       "       [9724,  276],\n",
       "       [9723,  277],\n",
       "       [9740,  260],\n",
       "       [9728,  272],\n",
       "       [9742,  258],\n",
       "       [9721,  279],\n",
       "       [9725,  275],\n",
       "       [9711,  289],\n",
       "       [9733,  267],\n",
       "       [9749,  251],\n",
       "       [9733,  267],\n",
       "       [9709,  291],\n",
       "       [9729,  271],\n",
       "       [9730,  270]], dtype=int64)"
      ]
     },
     "execution_count": 19,
     "metadata": {},
     "output_type": "execute_result"
    }
   ],
   "source": [
    "counts_trials = np.empty((num_trial,2), dtype=np.int64)\n",
    "for j_trial in range(num_trial):\n",
    "    merged_counts = counts_to_merged_counts(counts_list_list[0][j_trial])\n",
    "    counts_trials[j_trial] = merged_counts\n",
    "    \n",
    "counts_trials"
   ]
  },
  {
   "cell_type": "code",
   "execution_count": 20,
   "id": "d62724a6",
   "metadata": {},
   "outputs": [],
   "source": [
    "# np.save(f'counts-000-111_bit-flip_p-{p_err:.3g}_numqubits-{num_qubits_list[0]}_test-005.npy', counts_trials)"
   ]
  },
  {
   "cell_type": "code",
   "execution_count": 13,
   "id": "b7cebe9a",
   "metadata": {},
   "outputs": [],
   "source": [
    "assert sum(counts_data.values()) == shots_num"
   ]
  },
  {
   "cell_type": "code",
   "execution_count": 14,
   "id": "a3764fec",
   "metadata": {},
   "outputs": [],
   "source": [
    "p_logical_err = 1 - counts_data[all_0] / sum(counts_data.values())"
   ]
  },
  {
   "cell_type": "code",
   "execution_count": 15,
   "id": "52543a81",
   "metadata": {},
   "outputs": [],
   "source": [
    "nq_div_2, r_ = divmod(nq, 2)\n",
    "assert r_ == 1"
   ]
  },
  {
   "cell_type": "code",
   "execution_count": 16,
   "id": "c433fbed",
   "metadata": {},
   "outputs": [
    {
     "data": {
      "text/plain": [
       "1"
      ]
     },
     "execution_count": 16,
     "metadata": {},
     "output_type": "execute_result"
    }
   ],
   "source": [
    "nq_div_2"
   ]
  },
  {
   "cell_type": "code",
   "execution_count": 17,
   "id": "e0c43ea3",
   "metadata": {},
   "outputs": [],
   "source": [
    "from math import comb"
   ]
  },
  {
   "cell_type": "code",
   "execution_count": 18,
   "id": "84e96f81",
   "metadata": {},
   "outputs": [
    {
     "data": {
      "text/plain": [
       "3"
      ]
     },
     "execution_count": 18,
     "metadata": {},
     "output_type": "execute_result"
    }
   ],
   "source": [
    "comb(3,2)"
   ]
  },
  {
   "cell_type": "code",
   "execution_count": 19,
   "id": "5f78dbf8",
   "metadata": {},
   "outputs": [],
   "source": [
    "p_logical_err_theor = 0.\n",
    "for jj in range(nq_div_2+1):\n",
    "    p_logical_err_theor += comb(nq,jj) * pow(p_err,nq-jj) * pow(1-p_err,jj)"
   ]
  },
  {
   "cell_type": "code",
   "execution_count": 20,
   "id": "f1eff77f",
   "metadata": {},
   "outputs": [
    {
     "data": {
      "text/plain": [
       "(0.027900000000000036, 0.028000000000000008)"
      ]
     },
     "execution_count": 20,
     "metadata": {},
     "output_type": "execute_result"
    }
   ],
   "source": [
    "p_logical_err, p_logical_err_theor"
   ]
  },
  {
   "cell_type": "code",
   "execution_count": 21,
   "id": "8d23b4ff",
   "metadata": {},
   "outputs": [],
   "source": [
    "from qiskit.visualization import plot_histogram"
   ]
  },
  {
   "cell_type": "code",
   "execution_count": 24,
   "id": "602bd0a6",
   "metadata": {},
   "outputs": [],
   "source": [
    "# plot_histogram(counts_list_list[0][0], filename=f'hist-7-rep-p-{p_err:.3g}-test-002.png')"
   ]
  },
  {
   "cell_type": "code",
   "execution_count": 23,
   "id": "f6482afd",
   "metadata": {
    "scrolled": false
   },
   "outputs": [
    {
     "data": {
      "text/html": [
       "<pre style=\"word-wrap: normal;white-space: pre;background: #fff0;line-height: 1.1;font-family: &quot;Courier New&quot;,Courier,monospace\">                 ░ ┌──────────┐ ░                      ░        ░ ┌───────┐»\n",
       "qm_0: ──■────■───░─┤ bit-flip ├─░───■────■─────────────░────────░─┤ Rz(π) ├»\n",
       "      ┌─┴─┐  │   ░ ├──────────┤ ░   │    │             ░        ░ └───╥───┘»\n",
       "qm_1: ┤ X ├──┼───░─┤ bit-flip ├─░───┼────┼────■────────░────────░─────╫────»\n",
       "      └───┘┌─┴─┐ ░ ├──────────┤ ░   │    │    │        ░        ░     ║    »\n",
       "qm_2: ─────┤ X ├─░─┤ bit-flip ├─░───┼────┼────┼────■───░────────░─────╫────»\n",
       "           └───┘ ░ └──────────┘ ░ ┌─┴─┐  │  ┌─┴─┐  │   ░ ┌─┐    ░     ║    »\n",
       "qa_0: ───────────░──────────────░─┤ X ├──┼──┤ X ├──┼───░─┤M├────░─────╫────»\n",
       "                 ░              ░ └───┘┌─┴─┐└───┘┌─┴─┐ ░ └╥┘┌─┐ ░     ║    »\n",
       "qa_1: ───────────░──────────────░──────┤ X ├─────┤ X ├─░──╫─┤M├─░─────╫────»\n",
       "                 ░              ░      └───┘     └───┘ ░  ║ └╥┘ ░     ║    »\n",
       "cm: 3/════════════════════════════════════════════════════╬══╬════════╬════»\n",
       "                                                          ║  ║     ┌──╨──┐ »\n",
       "ca: 2/════════════════════════════════════════════════════╩══╩═════╡ 0x3 ╞═»\n",
       "                                                          0  1     └─────┘ »\n",
       "«       ┌────┐┌────────┐ ┌────┐┌────────┐                                 »\n",
       "«qm_0: ─┤ √X ├┤ Rz(2π) ├─┤ √X ├┤ Rz(3π) ├─────────────────────────────────»\n",
       "«       └─╥──┘└───╥────┘ └─╥──┘└───╥────┘┌───────┐ ┌────┐┌────────┐ ┌────┐»\n",
       "«qm_1: ───╫───────╫────────╫───────╫─────┤ Rz(π) ├─┤ √X ├┤ Rz(2π) ├─┤ √X ├»\n",
       "«         ║       ║        ║       ║     └───╥───┘ └─╥──┘└───╥────┘ └─╥──┘»\n",
       "«qm_2: ───╫───────╫────────╫───────╫─────────╫───────╫───────╫────────╫───»\n",
       "«         ║       ║        ║       ║         ║       ║       ║        ║   »\n",
       "«qa_0: ───╫───────╫────────╫───────╫─────────╫───────╫───────╫────────╫───»\n",
       "«         ║       ║        ║       ║         ║       ║       ║        ║   »\n",
       "«qa_1: ───╫───────╫────────╫───────╫─────────╫───────╫───────╫────────╫───»\n",
       "«         ║       ║        ║       ║         ║       ║       ║        ║   »\n",
       "«cm: 3/═══╬═══════╬════════╬═══════╬═════════╬═══════╬═══════╬════════╬═══»\n",
       "«      ┌──╨──┐ ┌──╨──┐  ┌──╨──┐ ┌──╨──┐   ┌──╨──┐ ┌──╨──┐ ┌──╨──┐  ┌──╨──┐»\n",
       "«ca: 2/╡ 0x3 ╞═╡ 0x3 ╞══╡ 0x3 ╞═╡ 0x3 ╞═══╡ 0x1 ╞═╡ 0x1 ╞═╡ 0x1 ╞══╡ 0x1 ╞»\n",
       "«      └─────┘ └─────┘  └─────┘ └─────┘   └─────┘ └─────┘ └─────┘  └─────┘»\n",
       "«                                                            ░ ┌─┐      \n",
       "«qm_0: ──────────────────────────────────────────────────────░─┤M├──────\n",
       "«      ┌────────┐                                            ░ └╥┘┌─┐   \n",
       "«qm_1: ┤ Rz(3π) ├────────────────────────────────────────────░──╫─┤M├───\n",
       "«      └───╥────┘┌───────┐ ┌────┐┌────────┐ ┌────┐┌────────┐ ░  ║ └╥┘┌─┐\n",
       "«qm_2: ────╫─────┤ Rz(π) ├─┤ √X ├┤ Rz(2π) ├─┤ √X ├┤ Rz(3π) ├─░──╫──╫─┤M├\n",
       "«          ║     └───╥───┘ └─╥──┘└───╥────┘ └─╥──┘└───╥────┘ ░  ║  ║ └╥┘\n",
       "«qa_0: ────╫─────────╫───────╫───────╫────────╫───────╫──────░──╫──╫──╫─\n",
       "«          ║         ║       ║       ║        ║       ║      ░  ║  ║  ║ \n",
       "«qa_1: ────╫─────────╫───────╫───────╫────────╫───────╫──────░──╫──╫──╫─\n",
       "«          ║         ║       ║       ║        ║       ║      ░  ║  ║  ║ \n",
       "«cm: 3/════╬═════════╬═══════╬═══════╬════════╬═══════╬═════════╩══╩══╩═\n",
       "«       ┌──╨──┐   ┌──╨──┐ ┌──╨──┐ ┌──╨──┐  ┌──╨──┐ ┌──╨──┐      0  1  2 \n",
       "«ca: 2/═╡ 0x1 ╞═══╡ 0x2 ╞═╡ 0x2 ╞═╡ 0x2 ╞══╡ 0x2 ╞═╡ 0x2 ╞══════════════\n",
       "«       └─────┘   └─────┘ └─────┘ └─────┘  └─────┘ └─────┘              </pre>"
      ],
      "text/plain": [
       "                 ░ ┌──────────┐ ░                      ░        ░ ┌───────┐»\n",
       "qm_0: ──■────■───░─┤ bit-flip ├─░───■────■─────────────░────────░─┤ Rz(π) ├»\n",
       "      ┌─┴─┐  │   ░ ├──────────┤ ░   │    │             ░        ░ └───╥───┘»\n",
       "qm_1: ┤ X ├──┼───░─┤ bit-flip ├─░───┼────┼────■────────░────────░─────╫────»\n",
       "      └───┘┌─┴─┐ ░ ├──────────┤ ░   │    │    │        ░        ░     ║    »\n",
       "qm_2: ─────┤ X ├─░─┤ bit-flip ├─░───┼────┼────┼────■───░────────░─────╫────»\n",
       "           └───┘ ░ └──────────┘ ░ ┌─┴─┐  │  ┌─┴─┐  │   ░ ┌─┐    ░     ║    »\n",
       "qa_0: ───────────░──────────────░─┤ X ├──┼──┤ X ├──┼───░─┤M├────░─────╫────»\n",
       "                 ░              ░ └───┘┌─┴─┐└───┘┌─┴─┐ ░ └╥┘┌─┐ ░     ║    »\n",
       "qa_1: ───────────░──────────────░──────┤ X ├─────┤ X ├─░──╫─┤M├─░─────╫────»\n",
       "                 ░              ░      └───┘     └───┘ ░  ║ └╥┘ ░     ║    »\n",
       "cm: 3/════════════════════════════════════════════════════╬══╬════════╬════»\n",
       "                                                          ║  ║     ┌──╨──┐ »\n",
       "ca: 2/════════════════════════════════════════════════════╩══╩═════╡ 0x3 ╞═»\n",
       "                                                          0  1     └─────┘ »\n",
       "«       ┌────┐┌────────┐ ┌────┐┌────────┐                                 »\n",
       "«qm_0: ─┤ √X ├┤ Rz(2π) ├─┤ √X ├┤ Rz(3π) ├─────────────────────────────────»\n",
       "«       └─╥──┘└───╥────┘ └─╥──┘└───╥────┘┌───────┐ ┌────┐┌────────┐ ┌────┐»\n",
       "«qm_1: ───╫───────╫────────╫───────╫─────┤ Rz(π) ├─┤ √X ├┤ Rz(2π) ├─┤ √X ├»\n",
       "«         ║       ║        ║       ║     └───╥───┘ └─╥──┘└───╥────┘ └─╥──┘»\n",
       "«qm_2: ───╫───────╫────────╫───────╫─────────╫───────╫───────╫────────╫───»\n",
       "«         ║       ║        ║       ║         ║       ║       ║        ║   »\n",
       "«qa_0: ───╫───────╫────────╫───────╫─────────╫───────╫───────╫────────╫───»\n",
       "«         ║       ║        ║       ║         ║       ║       ║        ║   »\n",
       "«qa_1: ───╫───────╫────────╫───────╫─────────╫───────╫───────╫────────╫───»\n",
       "«         ║       ║        ║       ║         ║       ║       ║        ║   »\n",
       "«cm: 3/═══╬═══════╬════════╬═══════╬═════════╬═══════╬═══════╬════════╬═══»\n",
       "«      ┌──╨──┐ ┌──╨──┐  ┌──╨──┐ ┌──╨──┐   ┌──╨──┐ ┌──╨──┐ ┌──╨──┐  ┌──╨──┐»\n",
       "«ca: 2/╡ 0x3 ╞═╡ 0x3 ╞══╡ 0x3 ╞═╡ 0x3 ╞═══╡ 0x1 ╞═╡ 0x1 ╞═╡ 0x1 ╞══╡ 0x1 ╞»\n",
       "«      └─────┘ └─────┘  └─────┘ └─────┘   └─────┘ └─────┘ └─────┘  └─────┘»\n",
       "«                                                            ░ ┌─┐      \n",
       "«qm_0: ──────────────────────────────────────────────────────░─┤M├──────\n",
       "«      ┌────────┐                                            ░ └╥┘┌─┐   \n",
       "«qm_1: ┤ Rz(3π) ├────────────────────────────────────────────░──╫─┤M├───\n",
       "«      └───╥────┘┌───────┐ ┌────┐┌────────┐ ┌────┐┌────────┐ ░  ║ └╥┘┌─┐\n",
       "«qm_2: ────╫─────┤ Rz(π) ├─┤ √X ├┤ Rz(2π) ├─┤ √X ├┤ Rz(3π) ├─░──╫──╫─┤M├\n",
       "«          ║     └───╥───┘ └─╥──┘└───╥────┘ └─╥──┘└───╥────┘ ░  ║  ║ └╥┘\n",
       "«qa_0: ────╫─────────╫───────╫───────╫────────╫───────╫──────░──╫──╫──╫─\n",
       "«          ║         ║       ║       ║        ║       ║      ░  ║  ║  ║ \n",
       "«qa_1: ────╫─────────╫───────╫───────╫────────╫───────╫──────░──╫──╫──╫─\n",
       "«          ║         ║       ║       ║        ║       ║      ░  ║  ║  ║ \n",
       "«cm: 3/════╬═════════╬═══════╬═══════╬════════╬═══════╬═════════╩══╩══╩═\n",
       "«       ┌──╨──┐   ┌──╨──┐ ┌──╨──┐ ┌──╨──┐  ┌──╨──┐ ┌──╨──┐      0  1  2 \n",
       "«ca: 2/═╡ 0x1 ╞═══╡ 0x2 ╞═╡ 0x2 ╞═╡ 0x2 ╞══╡ 0x2 ╞═╡ 0x2 ╞══════════════\n",
       "«       └─────┘   └─────┘ └─────┘ └─────┘  └─────┘ └─────┘              "
      ]
     },
     "execution_count": 23,
     "metadata": {},
     "output_type": "execute_result"
    }
   ],
   "source": [
    "tcirc.draw()"
   ]
  }
 ],
 "metadata": {
  "kernelspec": {
   "display_name": "Python 3 (ipykernel)",
   "language": "python",
   "name": "python3"
  },
  "language_info": {
   "codemirror_mode": {
    "name": "ipython",
    "version": 3
   },
   "file_extension": ".py",
   "mimetype": "text/x-python",
   "name": "python",
   "nbconvert_exporter": "python",
   "pygments_lexer": "ipython3",
   "version": "3.10.11"
  }
 },
 "nbformat": 4,
 "nbformat_minor": 5
}
