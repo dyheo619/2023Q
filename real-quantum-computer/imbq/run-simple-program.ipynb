{
 "cells": [
  {
   "cell_type": "code",
   "execution_count": 2,
   "id": "441dbbc6",
   "metadata": {},
   "outputs": [],
   "source": [
    "from qiskit_ibm_runtime import QiskitRuntimeService"
   ]
  },
  {
   "cell_type": "code",
   "execution_count": 3,
   "id": "6d2a2542",
   "metadata": {},
   "outputs": [],
   "source": [
    "from qiskit_ibm_provider import IBMProvider\n",
    "provider = IBMProvider(instance='ibm-q-skku/hackathon-2023/hackathon')"
   ]
  },
  {
   "cell_type": "code",
   "execution_count": 4,
   "id": "5250771d",
   "metadata": {},
   "outputs": [
    {
     "data": {
      "text/plain": [
       "<IBMProvider>"
      ]
     },
     "execution_count": 4,
     "metadata": {},
     "output_type": "execute_result"
    }
   ],
   "source": [
    "provider"
   ]
  },
  {
   "cell_type": "code",
   "execution_count": 8,
   "id": "9a098fcf",
   "metadata": {},
   "outputs": [],
   "source": [
    "# provider.backends()"
   ]
  },
  {
   "cell_type": "code",
   "execution_count": 9,
   "id": "ef61ceb3",
   "metadata": {},
   "outputs": [],
   "source": [
    "backend = provider.get_backend('ibmq_lima') # 'ibm_hanoi'"
   ]
  },
  {
   "cell_type": "code",
   "execution_count": 10,
   "id": "7535662f",
   "metadata": {},
   "outputs": [],
   "source": [
    "# from qiskit import Aer\n",
    "\n",
    "# Aer.backends()\n",
    "\n",
    "# backend = Aer.get_backend('aer_simulator')"
   ]
  },
  {
   "cell_type": "code",
   "execution_count": 11,
   "id": "404bc658",
   "metadata": {},
   "outputs": [],
   "source": [
    "from qiskit import *\n",
    "from qiskit_ibm_runtime import QiskitRuntimeService\n",
    "\n",
    "# service = QiskitRuntimeService()\n",
    "# backend = service.get_backend(\"ibmq_qasm_simulator\")\n",
    "\n",
    "qc = QuantumCircuit(2)\n",
    "qc.h(0)\n",
    "qc.cx(0,1)\n",
    "qc.measure_all()\n",
    "\n",
    "# sampler = Sampler(session=backend)\n",
    "# job = sampler.run(qc)\n",
    "\n",
    "# job = backend.run(qc)\n",
    "\n",
    "# print(f\"job id: {job.job_id()}\")\n",
    "# result = job.result()\n",
    "# print(f\" > Quasi probability distribution: {result.quasi_dists[0]}\")"
   ]
  },
  {
   "cell_type": "code",
   "execution_count": 12,
   "id": "cca6fcfc",
   "metadata": {},
   "outputs": [
    {
     "data": {
      "text/plain": [
       "<IBMBackend('ibmq_lima')>"
      ]
     },
     "execution_count": 12,
     "metadata": {},
     "output_type": "execute_result"
    }
   ],
   "source": [
    "backend"
   ]
  },
  {
   "cell_type": "code",
   "execution_count": 13,
   "id": "db1dd032",
   "metadata": {},
   "outputs": [
    {
     "data": {
      "text/html": [
       "<pre style=\"word-wrap: normal;white-space: pre;background: #fff0;line-height: 1.1;font-family: &quot;Courier New&quot;,Courier,monospace\">        ┌───┐      ░ ┌─┐   \n",
       "   q_0: ┤ H ├──■───░─┤M├───\n",
       "        └───┘┌─┴─┐ ░ └╥┘┌─┐\n",
       "   q_1: ─────┤ X ├─░──╫─┤M├\n",
       "             └───┘ ░  ║ └╥┘\n",
       "meas: 2/══════════════╩══╩═\n",
       "                      0  1 </pre>"
      ],
      "text/plain": [
       "        ┌───┐      ░ ┌─┐   \n",
       "   q_0: ┤ H ├──■───░─┤M├───\n",
       "        └───┘┌─┴─┐ ░ └╥┘┌─┐\n",
       "   q_1: ─────┤ X ├─░──╫─┤M├\n",
       "             └───┘ ░  ║ └╥┘\n",
       "meas: 2/══════════════╩══╩═\n",
       "                      0  1 "
      ]
     },
     "execution_count": 13,
     "metadata": {},
     "output_type": "execute_result"
    }
   ],
   "source": [
    "qc.draw()"
   ]
  },
  {
   "cell_type": "code",
   "execution_count": 14,
   "id": "109d4615",
   "metadata": {},
   "outputs": [],
   "source": [
    "from qiskit import transpile"
   ]
  },
  {
   "cell_type": "code",
   "execution_count": 15,
   "id": "0658d541",
   "metadata": {},
   "outputs": [],
   "source": [
    "transpiled_circuit = transpile(qc, backend)"
   ]
  },
  {
   "cell_type": "code",
   "execution_count": 16,
   "id": "6f711259",
   "metadata": {},
   "outputs": [
    {
     "data": {
      "text/html": [
       "<pre style=\"word-wrap: normal;white-space: pre;background: #fff0;line-height: 1.1;font-family: &quot;Courier New&quot;,Courier,monospace\">global phase: π/4\n",
       "               ┌─────────┐┌────┐┌─────────┐      ░ ┌─┐   \n",
       "      q_0 -> 0 ┤ Rz(π/2) ├┤ √X ├┤ Rz(π/2) ├──■───░─┤M├───\n",
       "               └─────────┘└────┘└─────────┘┌─┴─┐ ░ └╥┘┌─┐\n",
       "      q_1 -> 1 ────────────────────────────┤ X ├─░──╫─┤M├\n",
       "                                           └───┘ ░  ║ └╥┘\n",
       "ancilla_0 -> 2 ─────────────────────────────────────╫──╫─\n",
       "                                                    ║  ║ \n",
       "ancilla_1 -> 3 ─────────────────────────────────────╫──╫─\n",
       "                                                    ║  ║ \n",
       "ancilla_2 -> 4 ─────────────────────────────────────╫──╫─\n",
       "                                                    ║  ║ \n",
       "       meas: 2/═════════════════════════════════════╩══╩═\n",
       "                                                    0  1 </pre>"
      ],
      "text/plain": [
       "global phase: π/4\n",
       "               ┌─────────┐┌────┐┌─────────┐      ░ ┌─┐   \n",
       "      q_0 -> 0 ┤ Rz(π/2) ├┤ √X ├┤ Rz(π/2) ├──■───░─┤M├───\n",
       "               └─────────┘└────┘└─────────┘┌─┴─┐ ░ └╥┘┌─┐\n",
       "      q_1 -> 1 ────────────────────────────┤ X ├─░──╫─┤M├\n",
       "                                           └───┘ ░  ║ └╥┘\n",
       "ancilla_0 -> 2 ─────────────────────────────────────╫──╫─\n",
       "                                                    ║  ║ \n",
       "ancilla_1 -> 3 ─────────────────────────────────────╫──╫─\n",
       "                                                    ║  ║ \n",
       "ancilla_2 -> 4 ─────────────────────────────────────╫──╫─\n",
       "                                                    ║  ║ \n",
       "       meas: 2/═════════════════════════════════════╩══╩═\n",
       "                                                    0  1 "
      ]
     },
     "execution_count": 16,
     "metadata": {},
     "output_type": "execute_result"
    }
   ],
   "source": [
    "transpiled_circuit.draw()"
   ]
  },
  {
   "cell_type": "code",
   "execution_count": 17,
   "id": "f512b0cb",
   "metadata": {},
   "outputs": [],
   "source": [
    "job = backend.run(transpiled_circuit)"
   ]
  },
  {
   "cell_type": "code",
   "execution_count": 18,
   "id": "be333cee",
   "metadata": {},
   "outputs": [
    {
     "data": {
      "text/plain": [
       "'ci8t27k8lm446nouhfgg'"
      ]
     },
     "execution_count": 18,
     "metadata": {},
     "output_type": "execute_result"
    }
   ],
   "source": [
    "job.job_id()"
   ]
  },
  {
   "cell_type": "code",
   "execution_count": 19,
   "id": "7eb30f43",
   "metadata": {},
   "outputs": [
    {
     "data": {
      "text/plain": [
       "<JobStatus.QUEUED: 'job is queued'>"
      ]
     },
     "execution_count": 19,
     "metadata": {},
     "output_type": "execute_result"
    }
   ],
   "source": [
    "job.status()"
   ]
  },
  {
   "cell_type": "code",
   "execution_count": 20,
   "id": "38aaac6a",
   "metadata": {},
   "outputs": [],
   "source": [
    "job.queue_info()"
   ]
  },
  {
   "cell_type": "code",
   "execution_count": 21,
   "id": "4369a860",
   "metadata": {},
   "outputs": [
    {
     "data": {
      "text/plain": [
       "False"
      ]
     },
     "execution_count": 21,
     "metadata": {},
     "output_type": "execute_result"
    }
   ],
   "source": [
    "job.done()"
   ]
  },
  {
   "cell_type": "code",
   "execution_count": 22,
   "id": "59c41101",
   "metadata": {},
   "outputs": [],
   "source": [
    "job.header()"
   ]
  },
  {
   "cell_type": "code",
   "execution_count": 23,
   "id": "959ea095",
   "metadata": {},
   "outputs": [],
   "source": [
    "job.error_message()"
   ]
  },
  {
   "cell_type": "code",
   "execution_count": 25,
   "id": "173f5334",
   "metadata": {},
   "outputs": [],
   "source": [
    "# qc.draw()"
   ]
  },
  {
   "cell_type": "code",
   "execution_count": 26,
   "id": "6efc1b86",
   "metadata": {},
   "outputs": [],
   "source": [
    "result.get_counts()"
   ]
  }
 ],
 "metadata": {
  "kernelspec": {
   "display_name": "Python 3 (ipykernel)",
   "language": "python",
   "name": "python3"
  },
  "language_info": {
   "codemirror_mode": {
    "name": "ipython",
    "version": 3
   },
   "file_extension": ".py",
   "mimetype": "text/x-python",
   "name": "python",
   "nbconvert_exporter": "python",
   "pygments_lexer": "ipython3",
   "version": "3.10.11"
  }
 },
 "nbformat": 4,
 "nbformat_minor": 5
}
